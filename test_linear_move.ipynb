{
 "cells": [
  {
   "cell_type": "code",
   "execution_count": 1,
   "metadata": {},
   "outputs": [
    {
     "name": "stderr",
     "output_type": "stream",
     "text": [
      "pybullet build time: Nov 28 2023 23:45:17\n"
     ]
    }
   ],
   "source": [
    "import pybullet as p\n",
    "import numpy as np\n",
    "import time\n",
    "from environment.utilities import setup_sisbot\n",
    "from pathlib import Path"
   ]
  },
  {
   "cell_type": "code",
   "execution_count": 2,
   "metadata": {},
   "outputs": [
    {
     "name": "stdout",
     "output_type": "stream",
     "text": [
      "startThreads creating 1 threads.\n",
      "starting thread 0\n",
      "started thread 0 \n",
      "argc=2\n",
      "argv[0] = --unused\n",
      "argv[1] = --start_demo_name=Physics Server\n",
      "ExampleBrowserThreadFunc started\n",
      "X11 functions dynamically loaded using dlopen/dlsym OK!\n",
      "X11 functions dynamically loaded using dlopen/dlsym OK!\n",
      "Creating context\n",
      "Created GL 3.3 context\n",
      "Direct GLX rendering context obtained\n",
      "Making context current\n",
      "GL_VENDOR=Intel\n",
      "GL_RENDERER=Mesa Intel(R) Graphics (RPL-S)\n",
      "GL_VERSION=4.6 (Core Profile) Mesa 23.2.1-1ubuntu3.1~22.04.2\n",
      "GL_SHADING_LANGUAGE_VERSION=4.60\n",
      "pthread_getconcurrency()=0\n",
      "Version = 4.6 (Core Profile) Mesa 23.2.1-1ubuntu3.1~22.04.2\n",
      "Vendor = Intel\n",
      "Renderer = Mesa Intel(R) Graphics (RPL-S)\n",
      "b3Printf: Selected demo: Physics Server\n",
      "startThreads creating 1 threads.\n",
      "starting thread 0\n",
      "started thread 0 \n",
      "MotionThreadFunc thread started\n",
      "ven = Intel\n",
      "Workaround for some crash in the Intel OpenGL driver on Linux/Ubuntu\n",
      "b3Printf: b3Warning[examples/Importers/ImportURDFDemo/BulletUrdfImporter.cpp,126]:\n",
      "\n",
      "b3Printf: No inertial data for link, using mass=1, localinertiadiagonal = 1,1,1, identity local inertial frame\n",
      "b3Printf: b3Warning[examples/Importers/ImportURDFDemo/BulletUrdfImporter.cpp,126]:\n",
      "\n",
      "b3Printf: ee_link\n",
      "ven = Intel\n",
      "Workaround for some crash in the Intel OpenGL driver on Linux/Ubuntu\n"
     ]
    }
   ],
   "source": [
    "p.connect(p.GUI)\n",
    "robot_id = p.loadURDF(\"environment/urdf/ur5_robotiq_140.urdf\", useFixedBase=1)"
   ]
  },
  {
   "cell_type": "code",
   "execution_count": 3,
   "metadata": {},
   "outputs": [],
   "source": [
    "joints, controlGripper, controlJoints, mimicParentName = setup_sisbot(p, robot_id, \"140\")\n",
    "\n",
    "def reset_robot():\n",
    "    user_parameters = (-1.5690622952052096, -1.5446774605904932, 1.343946009733127, -1.3708613585093699,\n",
    "                        -1.5707970583733368, 0.0009377758247187636, 0.085)\n",
    "    for _ in range(60):\n",
    "        for i, name in enumerate(controlJoints):\n",
    "            if i == 6:\n",
    "                controlGripper(controlMode=p.POSITION_CONTROL, targetPosition=user_parameters[i])\n",
    "                break\n",
    "            joint = joints[name]\n",
    "            # control robot joints\n",
    "            p.setJointMotorControl2(robot_id, joint.id, p.POSITION_CONTROL,\n",
    "                                    targetPosition=user_parameters[i], force=joint.maxForce,\n",
    "                                    maxVelocity=joint.maxVelocity)\n",
    "            p.stepSimulation()\n",
    "\n",
    "reset_robot()\n",
    "for _ in range(300):\n",
    "    p.stepSimulation()"
   ]
  },
  {
   "cell_type": "code",
   "execution_count": 37,
   "metadata": {},
   "outputs": [],
   "source": [
    "reset_robot()"
   ]
  },
  {
   "cell_type": "code",
   "execution_count": 38,
   "metadata": {},
   "outputs": [],
   "source": [
    "def generate_linear_path(start_pos, end_pos, steps=100):\n",
    "    return np.linspace(start_pos, end_pos, steps)\n",
    "\n",
    "# Identify the end effector link index\n",
    "end_effector_link_index = 7  # Replace with your end-effector link index\n",
    "\n",
    "# Get the initial position and orientation of the end effector\n",
    "start_position = p.getLinkState(robot_id, end_effector_link_index)[0]"
   ]
  },
  {
   "cell_type": "code",
   "execution_count": 6,
   "metadata": {},
   "outputs": [],
   "source": [
    "\n",
    "# Generate a linear path from the start to the end position\n",
    "end_position = np.array(start_position) + (np.random.random(size=3)-0.5)*0.25\n",
    "end_position = end_position.tolist()\n",
    "path = generate_linear_path(start_position, end_position, steps=100)\n",
    "\n",
    "debug_id = p.addUserDebugLine(start_position, end_position, [1,0,0])\n"
   ]
  },
  {
   "cell_type": "code",
   "execution_count": 7,
   "metadata": {},
   "outputs": [],
   "source": [
    "\n",
    "# # Move the robot's end effector along the linear path\n",
    "# for target_pos in path:\n",
    "#     # Compute the joint angles using inverse kinematics\n",
    "#     joint_poses = p.calculateInverseKinematics(robot_id, end_effector_link_index, target_pos)\n",
    "\n",
    "#     # Set the robot's joint motors to the calculated joint positions\n",
    "#     for i in range(len(joint_poses)):\n",
    "#         if p.getJointInfo(robot_id, i)[1].decode(\"utf-8\") not in controlJoints:\n",
    "#             continue\n",
    "#         p.setJointMotorControl2(bodyIndex=robot_id, \n",
    "#                                 jointIndex=i, \n",
    "#                                 controlMode=p.POSITION_CONTROL, \n",
    "#                                 targetPosition=joint_poses[i])\n",
    "\n",
    "#     # Step the simulation\n",
    "#     p.stepSimulation()\n",
    "#     time.sleep(1./60.)\n",
    "\n",
    "\n",
    "# time.sleep(2)\n",
    "# start_position = p.getLinkState(robot_id, end_effector_link_index)[0]"
   ]
  },
  {
   "cell_type": "code",
   "execution_count": 8,
   "metadata": {},
   "outputs": [],
   "source": [
    "prev_target_pos = path[0]\n",
    "for target_pos in path[1:]:\n",
    "    p.addUserDebugLine(prev_target_pos, target_pos, [0,1,0])"
   ]
  },
  {
   "cell_type": "code",
   "execution_count": 52,
   "metadata": {},
   "outputs": [
    {
     "ename": "",
     "evalue": "",
     "output_type": "error",
     "traceback": [
      "\u001b[1;31mThe Kernel crashed while executing code in the current cell or a previous cell. \n",
      "\u001b[1;31mPlease review the code in the cell(s) to identify a possible cause of the failure. \n",
      "\u001b[1;31mClick <a href='https://aka.ms/vscodeJupyterKernelCrash'>here</a> for more info. \n",
      "\u001b[1;31mView Jupyter <a href='command:jupyter.viewOutput'>log</a> for further details."
     ]
    }
   ],
   "source": [
    "def get_joint_name(robot_id, joint_id: int) -> str:\n",
    "    return p.getJointInfo(robot_id, joint_id)[1].decode('utf-8')\n",
    "\n",
    "reset_robot()\n",
    "\n",
    "def linear_move(end_point):\n",
    "    current_point = p.getLinkState(robot_id, end_effector_link_index)[0]\n",
    "    current_orn = p.getLinkState(robot_id, end_effector_link_index)[1]\n",
    "\n",
    "    path = np.linspace(current_point, end_point, 100)\n",
    "    for pidx, target_pos in enumerate(path):\n",
    "        joint_poses = p.calculateInverseKinematics(robot_id, end_effector_link_index, target_pos, current_orn, maxNumIterations=100)\n",
    "\n",
    "        # Set Joint motor control of all control joints except the gripper\n",
    "        for i, name in enumerate(controlJoints[:-1]):\n",
    "            joint = joints[name]\n",
    "            pose = joint_poses[i]\n",
    "            # control robot end-effector\n",
    "            p.setJointMotorControl2(robot_id, joint.id, p.POSITION_CONTROL,\n",
    "                                    targetPosition=pose, force=joint.maxForce,\n",
    "                                    maxVelocity=joint.maxVelocity)\n",
    "\n",
    "        p.stepSimulation()\n",
    "        time.sleep(1./240)\n",
    "\n",
    "c = p.getLinkState(robot_id, end_effector_link_index)[0]\n",
    "p0, p1, p2 = [c[0]-0.2, c[1], c[2]], [c[0], c[1], c[2] -0.2], [c[0]+0.2, c[1], c[2]]\n",
    "linear_move(p0)\n",
    "linear_move(p1)\n",
    "linear_move(p2)\n",
    "linear_move(c)\n"
   ]
  },
  {
   "cell_type": "code",
   "execution_count": 48,
   "metadata": {},
   "outputs": [],
   "source": [
    "p.removeAllUserDebugItems()"
   ]
  }
 ],
 "metadata": {
  "kernelspec": {
   "display_name": "venv",
   "language": "python",
   "name": "python3"
  },
  "language_info": {
   "codemirror_mode": {
    "name": "ipython",
    "version": 3
   },
   "file_extension": ".py",
   "mimetype": "text/x-python",
   "name": "python",
   "nbconvert_exporter": "python",
   "pygments_lexer": "ipython3",
   "version": "3.10.12"
  }
 },
 "nbformat": 4,
 "nbformat_minor": 2
}
